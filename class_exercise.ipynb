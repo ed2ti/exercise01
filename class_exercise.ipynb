{
 "cells": [
  {
   "cell_type": "code",
   "execution_count": 1,
   "id": "453758db",
   "metadata": {},
   "outputs": [],
   "source": [
    "# Exercise "
   ]
  },
  {
   "cell_type": "code",
   "execution_count": 2,
   "id": "9f99ef49",
   "metadata": {},
   "outputs": [],
   "source": [
    "import pandas as pd\n",
    "import numpy as np"
   ]
  },
  {
   "cell_type": "code",
   "execution_count": 3,
   "id": "93f47784",
   "metadata": {},
   "outputs": [
    {
     "data": {
      "text/html": [
       "<div>\n",
       "<style scoped>\n",
       "    .dataframe tbody tr th:only-of-type {\n",
       "        vertical-align: middle;\n",
       "    }\n",
       "\n",
       "    .dataframe tbody tr th {\n",
       "        vertical-align: top;\n",
       "    }\n",
       "\n",
       "    .dataframe thead th {\n",
       "        text-align: right;\n",
       "    }\n",
       "</style>\n",
       "<table border=\"1\" class=\"dataframe\">\n",
       "  <thead>\n",
       "    <tr style=\"text-align: right;\">\n",
       "      <th></th>\n",
       "      <th>id</th>\n",
       "      <th>Clé flexible</th>\n",
       "      <th>Nom</th>\n",
       "      <th>Prénom</th>\n",
       "    </tr>\n",
       "  </thead>\n",
       "  <tbody>\n",
       "    <tr>\n",
       "      <th>0</th>\n",
       "      <td>0</td>\n",
       "      <td>ABD-01</td>\n",
       "      <td>NaN</td>\n",
       "      <td>Sai Prakash</td>\n",
       "    </tr>\n",
       "    <tr>\n",
       "      <th>1</th>\n",
       "      <td>1</td>\n",
       "      <td>ABD-01</td>\n",
       "      <td>NaN</td>\n",
       "      <td>Juan Sebastian</td>\n",
       "    </tr>\n",
       "    <tr>\n",
       "      <th>2</th>\n",
       "      <td>2</td>\n",
       "      <td>ABD-01</td>\n",
       "      <td>NaN</td>\n",
       "      <td>Sarah</td>\n",
       "    </tr>\n",
       "    <tr>\n",
       "      <th>3</th>\n",
       "      <td>3</td>\n",
       "      <td>ABD-01</td>\n",
       "      <td>NaN</td>\n",
       "      <td>Ravi</td>\n",
       "    </tr>\n",
       "    <tr>\n",
       "      <th>4</th>\n",
       "      <td>4</td>\n",
       "      <td>ABD-01</td>\n",
       "      <td>NaN</td>\n",
       "      <td>Jania Barbara</td>\n",
       "    </tr>\n",
       "  </tbody>\n",
       "</table>\n",
       "</div>"
      ],
      "text/plain": [
       "   id Clé flexible  Nom          Prénom\n",
       "0   0       ABD-01  NaN     Sai Prakash\n",
       "1   1       ABD-01  NaN  Juan Sebastian\n",
       "2   2       ABD-01  NaN           Sarah\n",
       "3   3       ABD-01  NaN            Ravi\n",
       "4   4       ABD-01  NaN   Jania Barbara"
      ]
     },
     "execution_count": 3,
     "metadata": {},
     "output_type": "execute_result"
    }
   ],
   "source": [
    "df = pd.read_csv(\"class.csv\")\n",
    "df.head()"
   ]
  },
  {
   "cell_type": "code",
   "execution_count": 4,
   "id": "5923c1ca",
   "metadata": {},
   "outputs": [],
   "source": [
    "#get only values of the result"
   ]
  },
  {
   "cell_type": "code",
   "execution_count": 5,
   "id": "14a7ecde",
   "metadata": {},
   "outputs": [],
   "source": [
    "data = df.values"
   ]
  },
  {
   "cell_type": "code",
   "execution_count": 6,
   "id": "70c4fe0d",
   "metadata": {},
   "outputs": [
    {
     "data": {
      "text/plain": [
       "array([ 4,  1, 10,  2,  4,  5,  8,  2, 12, 14])"
      ]
     },
     "execution_count": 6,
     "metadata": {},
     "output_type": "execute_result"
    }
   ],
   "source": [
    "# Create a array with 16 [0-15] itens, and choice 10 of them.\n",
    "array = np.random.choice(16, 10)\n",
    "array = np.array(array)\n",
    "array"
   ]
  },
  {
   "cell_type": "code",
   "execution_count": 7,
   "id": "816966d9",
   "metadata": {},
   "outputs": [
    {
     "name": "stdout",
     "output_type": "stream",
     "text": [
      "Jania Barbara\n",
      "Juan Sebastian\n",
      "Mubin\n",
      "Sarah\n",
      "Jania Barbara\n",
      "Sushank\n",
      "Bhavya\n",
      "Sarah\n",
      "Edward\n",
      "Afshan Khan\n"
     ]
    }
   ],
   "source": [
    "for i in array:\n",
    "    print(data[i][3])"
   ]
  }
 ],
 "metadata": {
  "kernelspec": {
   "display_name": "Python 3 (ipykernel)",
   "language": "python",
   "name": "python3"
  },
  "language_info": {
   "codemirror_mode": {
    "name": "ipython",
    "version": 3
   },
   "file_extension": ".py",
   "mimetype": "text/x-python",
   "name": "python",
   "nbconvert_exporter": "python",
   "pygments_lexer": "ipython3",
   "version": "3.8.10"
  }
 },
 "nbformat": 4,
 "nbformat_minor": 5
}
